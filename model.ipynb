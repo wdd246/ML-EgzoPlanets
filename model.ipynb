{
 "cells": [
  {
   "cell_type": "code",
   "execution_count": null,
   "metadata": {
    "scrolled": true
   },
   "outputs": [],
   "source": [
    "import pandas as pd\n",
    "import tensorflow as tf\n",
    "from tensorflow_core.estimator import inputs\n",
    "\n",
    "train = pd.read_csv('exoTrain.csv')\n",
    "test = pd.read_csv('exoTest.csv')\n",
    "\n",
    "print('Dane treningowe\\n', train.head())\n",
    "print('Dane testowe\\n', test.head())\n",
    "\n",
    "x_train = train.drop('LABEL', axis=1)\n",
    "y_train = train.LABEL-1\n",
    "x_test = test.drop('LABEL', axis=1)\n",
    "y_test = test.LABEL-1"
   ]
  },
  {
   "cell_type": "code",
   "execution_count": null,
   "metadata": {},
   "outputs": [],
   "source": [
    "numeric_column_headers = x_train.columns.values.tolist()\n",
    "bc_fn = tf.feature_column.bucketized_column\n",
    "nc_fn = tf.feature_column.numeric_column\n",
    "bucketized_features = [bc_fn(source_column=nc_fn(key=column),\n",
    "                            boundaries=[x_train[column].mean()])\n",
    "                      for column in numeric_column_headers]"
   ]
  },
  {
   "cell_type": "code",
   "execution_count": null,
   "metadata": {},
   "outputs": [],
   "source": [
    "all_features = bucketized_features"
   ]
  },
  {
   "cell_type": "code",
   "execution_count": null,
   "metadata": {},
   "outputs": [],
   "source": [
    "batch_size=32\n",
    "pi_fn = tf.compat.v1.estimator.inputs.pandas_input_fn\n",
    "train_input_fn = pi_fn(x = x_train,\n",
    "                      y = y_train,\n",
    "                      batch_size = batch_size,\n",
    "                      shuffle = True,\n",
    "                      num_epochs = None)"
   ]
  },
  {
   "cell_type": "code",
   "execution_count": null,
   "metadata": {},
   "outputs": [],
   "source": [
    "eval_input_fn = pi_fn(x = x_test,\n",
    "                     y = y_test,\n",
    "                     batch_size = batch_size,\n",
    "                     shuffle = False,\n",
    "                     num_epochs = 1)"
   ]
  },
  {
   "cell_type": "code",
   "execution_count": null,
   "metadata": {},
   "outputs": [],
   "source": [
    "n_trees = 100\n",
    "n_steps = 100\n",
    "\n",
    "m_fn = tf.estimator.BoostedTreesClassifier\n",
    "model = m_fn(feature_columns=all_features,\n",
    "            n_trees = n_trees,\n",
    "            n_batches_per_layer = batch_size,\n",
    "            model_dir='./tfbtmodel')"
   ]
  },
  {
   "cell_type": "code",
   "execution_count": null,
   "metadata": {},
   "outputs": [],
   "source": [
    "model.train(input_fn=train_input_fn, steps=n_steps)"
   ]
  },
  {
   "cell_type": "code",
   "execution_count": null,
   "metadata": {},
   "outputs": [],
   "source": [
    "results = model.evaluate(input_fn=eval_input_fn)"
   ]
  },
  {
   "cell_type": "code",
   "execution_count": null,
   "metadata": {},
   "outputs": [],
   "source": [
    "for key,value in sorted(results.items()):\n",
    "    print('{}: {}'.format(key,value))"
   ]
  }
 ],
 "metadata": {
  "kernelspec": {
   "display_name": "Python 3",
   "language": "python",
   "name": "python3"
  },
  "language_info": {
   "codemirror_mode": {
    "name": "ipython",
    "version": 3
   },
   "file_extension": ".py",
   "mimetype": "text/x-python",
   "name": "python",
   "nbconvert_exporter": "python",
   "pygments_lexer": "ipython3",
   "version": "3.7.4"
  }
 },
 "nbformat": 4,
 "nbformat_minor": 2
}
